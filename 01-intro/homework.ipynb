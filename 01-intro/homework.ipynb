{
 "cells": [
  {
   "cell_type": "code",
   "execution_count": 1,
   "id": "aad537a1",
   "metadata": {},
   "outputs": [],
   "source": [
    "import pandas as pd\n",
    "import seaborn as sns\n",
    "import matplotlib.pyplot as plt\n",
    "from sklearn.feature_extraction import DictVectorizer\n",
    "from sklearn.linear_model import LinearRegression\n",
    "from sklearn.metrics import mean_squared_error\n",
    "import numpy as np"
   ]
  },
  {
   "cell_type": "code",
   "execution_count": 2,
   "id": "c29ed94e",
   "metadata": {},
   "outputs": [],
   "source": [
    "df = pd.read_parquet('data/yellow_tripdata_2023-01.parquet')"
   ]
  },
  {
   "cell_type": "code",
   "execution_count": 3,
   "id": "06974433",
   "metadata": {},
   "outputs": [
    {
     "name": "stdout",
     "output_type": "stream",
     "text": [
      "<class 'pandas.core.frame.DataFrame'>\n",
      "RangeIndex: 3066766 entries, 0 to 3066765\n",
      "Data columns (total 19 columns):\n",
      " #   Column                 Dtype         \n",
      "---  ------                 -----         \n",
      " 0   VendorID               int64         \n",
      " 1   tpep_pickup_datetime   datetime64[ns]\n",
      " 2   tpep_dropoff_datetime  datetime64[ns]\n",
      " 3   passenger_count        float64       \n",
      " 4   trip_distance          float64       \n",
      " 5   RatecodeID             float64       \n",
      " 6   store_and_fwd_flag     object        \n",
      " 7   PULocationID           int64         \n",
      " 8   DOLocationID           int64         \n",
      " 9   payment_type           int64         \n",
      " 10  fare_amount            float64       \n",
      " 11  extra                  float64       \n",
      " 12  mta_tax                float64       \n",
      " 13  tip_amount             float64       \n",
      " 14  tolls_amount           float64       \n",
      " 15  improvement_surcharge  float64       \n",
      " 16  total_amount           float64       \n",
      " 17  congestion_surcharge   float64       \n",
      " 18  airport_fee            float64       \n",
      "dtypes: datetime64[ns](2), float64(12), int64(4), object(1)\n",
      "memory usage: 444.6+ MB\n"
     ]
    }
   ],
   "source": [
    "df.info() #Q1"
   ]
  },
  {
   "cell_type": "code",
   "execution_count": 4,
   "id": "d8c9a8fa",
   "metadata": {},
   "outputs": [
    {
     "data": {
      "text/plain": [
       "42.594351241920904"
      ]
     },
     "execution_count": 4,
     "metadata": {},
     "output_type": "execute_result"
    }
   ],
   "source": [
    "df['duration'] = df.tpep_dropoff_datetime - df.tpep_pickup_datetime\n",
    "df['duration'] = df['duration'].dt.total_seconds()/60\n",
    "df.duration.std() #Q2"
   ]
  },
  {
   "cell_type": "code",
   "execution_count": 5,
   "id": "ed3e58d6",
   "metadata": {},
   "outputs": [
    {
     "data": {
      "image/png": "[encoded data removed]",
      "text/plain": [
       "<Figure size 432x288 with 1 Axes>"
      ]
     },
     "metadata": {
      "needs_background": "light"
     },
     "output_type": "display_data"
    },
    {
     "name": "stdout",
     "output_type": "stream",
     "text": [
      "0.9812202822125979\n"
     ]
    }
   ],
   "source": [
    "sns.boxplot(data=df, x='duration')\n",
    "plt.xscale('log')\n",
    "plt.show()\n",
    "\n",
    "print(df[(df['duration']>=1) & (df['duration']<=60)].shape[0]/df.shape[0]) #Q3\n",
    "df = df[(df['duration']>=1) & (df['duration']<=60)]"
   ]
  },
  {
   "cell_type": "code",
   "execution_count": 6,
   "id": "11c49e82",
   "metadata": {},
   "outputs": [
    {
     "data": {
      "text/plain": [
       "(3009173, 515)"
      ]
     },
     "execution_count": 6,
     "metadata": {},
     "output_type": "execute_result"
    }
   ],
   "source": [
    "categorical = ['PULocationID', 'DOLocationID']\n",
    "df[categorical] = df[categorical].astype(str)\n",
    "\n",
    "dv=DictVectorizer()\n",
    "train_dict = df[categorical].to_dict(orient='records') # first convert to list of dicts (each row = one dict)\n",
    "X_train=dv.fit_transform(train_dict)\n",
    "X_train.shape #Q4\n"
   ]
  },
  {
   "cell_type": "code",
   "execution_count": 7,
   "id": "7fdc9698",
   "metadata": {},
   "outputs": [
    {
     "data": {
      "text/plain": [
       "7.649261027919939"
      ]
     },
     "execution_count": 7,
     "metadata": {},
     "output_type": "execute_result"
    }
   ],
   "source": [
    "y_train = df['duration']\n",
    "\n",
    "lr = LinearRegression()\n",
    "lr.fit(X_train, y_train)\n",
    "\n",
    "y_pred = lr.predict(X_train)\n",
    "mse = mean_squared_error(y_train, y_pred)\n",
    "np.sqrt(mse) #Q5"
   ]
  },
  {
   "cell_type": "code",
   "execution_count": 8,
   "id": "2441a72f",
   "metadata": {},
   "outputs": [
    {
     "data": {
      "text/plain": [
       "7.811832638273232"
      ]
     },
     "execution_count": 8,
     "metadata": {},
     "output_type": "execute_result"
    }
   ],
   "source": [
    "def preprocess(filename):\n",
    "\n",
    "    df = pd.read_parquet(filename)\n",
    "\n",
    "    df['duration'] = df.tpep_dropoff_datetime - df.tpep_pickup_datetime\n",
    "    df['duration'] = df['duration'].dt.total_seconds()/60\n",
    "\n",
    "    df = df[(df['duration']>=1) & (df['duration']<=60)]\n",
    "\n",
    "    categorical = ['PULocationID', 'DOLocationID']\n",
    "    df[categorical] = df[categorical].astype(str)\n",
    "\n",
    "    return df\n",
    "\n",
    "df = preprocess('data/yellow_tripdata_2023-02.parquet')\n",
    "categorical = ['PULocationID', 'DOLocationID']\n",
    "val_dict = df[categorical].to_dict(orient='records')\n",
    "X_val = dv.transform(val_dict)\n",
    "\n",
    "y_val = df['duration']\n",
    "y_pred = lr.predict(X_val)\n",
    "mse = mean_squared_error(y_val, y_pred)\n",
    "np.sqrt(mse) #Q6"
   ]
  }
 ],
 "metadata": {
  "kernelspec": {
   "display_name": "base",
   "language": "python",
   "name": "python3"
  },
  "language_info": {
   "codemirror_mode": {
    "name": "ipython",
    "version": 3
   },
   "file_extension": ".py",
   "mimetype": "text/x-python",
   "name": "python",
   "nbconvert_exporter": "python",
   "pygments_lexer": "ipython3",
   "version": "3.9.12"
  }
 },
 "nbformat": 4,
 "nbformat_minor": 5
}
